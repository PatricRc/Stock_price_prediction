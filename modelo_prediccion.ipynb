{
  "nbformat": 4,
  "nbformat_minor": 0,
  "metadata": {
    "colab": {
      "name": "modelo_prediccion.ipynb",
      "provenance": [],
      "authorship_tag": "ABX9TyN38YK+HNBuBPvQ4YkMV2eF",
      "include_colab_link": true
    },
    "kernelspec": {
      "name": "python3",
      "display_name": "Python 3"
    },
    "language_info": {
      "name": "python"
    }
  },
  "cells": [
    {
      "cell_type": "markdown",
      "metadata": {
        "id": "view-in-github",
        "colab_type": "text"
      },
      "source": [
        "<a href=\"https://colab.research.google.com/github/PatricRc/Stock_price_prediction/blob/main/modelo_prediccion.ipynb\" target=\"_parent\"><img src=\"https://colab.research.google.com/assets/colab-badge.svg\" alt=\"Open In Colab\"/></a>"
      ]
    },
    {
      "cell_type": "code",
      "metadata": {
        "id": "1kIswhLIndwX"
      },
      "source": [
        "!pip install yfinance -q"
      ],
      "execution_count": null,
      "outputs": []
    },
    {
      "cell_type": "code",
      "metadata": {
        "id": "NZfzNyp3nev-"
      },
      "source": [
        "import pandas_datareader.data as reader\n",
        "import datetime as dt\n",
        "import matplotlib.pyplot as plt\n",
        "import seaborn as sns\n",
        "import yfinance as yf\n",
        "import numpy as np\n",
        "import pandas as pd\n",
        "from keras.models import load_model"
      ],
      "execution_count": 11,
      "outputs": []
    },
    {
      "cell_type": "code",
      "metadata": {
        "id": "Fac2TV-CnvSU"
      },
      "source": [
        "end = dt.datetime.now()\n",
        "start = '2010-01-01'\n",
        "\n",
        "tickers = ['TSLA']"
      ],
      "execution_count": 3,
      "outputs": []
    },
    {
      "cell_type": "code",
      "metadata": {
        "colab": {
          "base_uri": "https://localhost:8080/"
        },
        "id": "qrOqRxmTpMYe",
        "outputId": "955e43a6-9a4c-441e-d8d6-8f08bd4250b2"
      },
      "source": [
        "df = yf.download(tickers,start,end)"
      ],
      "execution_count": 4,
      "outputs": [
        {
          "output_type": "stream",
          "name": "stdout",
          "text": [
            "\r[*********************100%***********************]  1 of 1 completed\n"
          ]
        }
      ]
    },
    {
      "cell_type": "code",
      "metadata": {
        "colab": {
          "base_uri": "https://localhost:8080/",
          "height": 206
        },
        "id": "1uGqQ_L_pT6c",
        "outputId": "50212f09-2d60-4e4a-c5cf-b07c9e9aaf7e"
      },
      "source": [
        "df = df.reset_index().drop(['Date','Adj Close'], axis = 1)\n",
        "df.head()"
      ],
      "execution_count": 5,
      "outputs": [
        {
          "output_type": "execute_result",
          "data": {
            "text/html": [
              "<div>\n",
              "<style scoped>\n",
              "    .dataframe tbody tr th:only-of-type {\n",
              "        vertical-align: middle;\n",
              "    }\n",
              "\n",
              "    .dataframe tbody tr th {\n",
              "        vertical-align: top;\n",
              "    }\n",
              "\n",
              "    .dataframe thead th {\n",
              "        text-align: right;\n",
              "    }\n",
              "</style>\n",
              "<table border=\"1\" class=\"dataframe\">\n",
              "  <thead>\n",
              "    <tr style=\"text-align: right;\">\n",
              "      <th></th>\n",
              "      <th>Open</th>\n",
              "      <th>High</th>\n",
              "      <th>Low</th>\n",
              "      <th>Close</th>\n",
              "      <th>Volume</th>\n",
              "    </tr>\n",
              "  </thead>\n",
              "  <tbody>\n",
              "    <tr>\n",
              "      <th>0</th>\n",
              "      <td>3.800</td>\n",
              "      <td>5.000</td>\n",
              "      <td>3.508</td>\n",
              "      <td>4.778</td>\n",
              "      <td>93831500</td>\n",
              "    </tr>\n",
              "    <tr>\n",
              "      <th>1</th>\n",
              "      <td>5.158</td>\n",
              "      <td>6.084</td>\n",
              "      <td>4.660</td>\n",
              "      <td>4.766</td>\n",
              "      <td>85935500</td>\n",
              "    </tr>\n",
              "    <tr>\n",
              "      <th>2</th>\n",
              "      <td>5.000</td>\n",
              "      <td>5.184</td>\n",
              "      <td>4.054</td>\n",
              "      <td>4.392</td>\n",
              "      <td>41094000</td>\n",
              "    </tr>\n",
              "    <tr>\n",
              "      <th>3</th>\n",
              "      <td>4.600</td>\n",
              "      <td>4.620</td>\n",
              "      <td>3.742</td>\n",
              "      <td>3.840</td>\n",
              "      <td>25699000</td>\n",
              "    </tr>\n",
              "    <tr>\n",
              "      <th>4</th>\n",
              "      <td>4.000</td>\n",
              "      <td>4.000</td>\n",
              "      <td>3.166</td>\n",
              "      <td>3.222</td>\n",
              "      <td>34334500</td>\n",
              "    </tr>\n",
              "  </tbody>\n",
              "</table>\n",
              "</div>"
            ],
            "text/plain": [
              "    Open   High    Low  Close    Volume\n",
              "0  3.800  5.000  3.508  4.778  93831500\n",
              "1  5.158  6.084  4.660  4.766  85935500\n",
              "2  5.000  5.184  4.054  4.392  41094000\n",
              "3  4.600  4.620  3.742  3.840  25699000\n",
              "4  4.000  4.000  3.166  3.222  34334500"
            ]
          },
          "metadata": {},
          "execution_count": 5
        }
      ]
    },
    {
      "cell_type": "code",
      "metadata": {
        "id": "Z9MYSWtAqX10",
        "colab": {
          "base_uri": "https://localhost:8080/",
          "height": 282
        },
        "outputId": "256265e9-d52b-4ead-930e-575bcde6da3b"
      },
      "source": [
        "plt.plot(df.Close)"
      ],
      "execution_count": 6,
      "outputs": [
        {
          "output_type": "execute_result",
          "data": {
            "text/plain": [
              "[<matplotlib.lines.Line2D at 0x7f5947c8a110>]"
            ]
          },
          "metadata": {},
          "execution_count": 6
        },
        {
          "output_type": "display_data",
          "data": {
            "image/png": "[encoded data removed]",
            "text/plain": [
              "<Figure size 432x288 with 1 Axes>"
            ]
          },
          "metadata": {
            "needs_background": "light"
          }
        }
      ]
    },
    {
      "cell_type": "code",
      "metadata": {
        "id": "FQY6jWN0qcuc"
      },
      "source": [
        "ma100 = df['Close'].rolling(100).mean()\n",
        "ma200 = df['Close'].rolling(200).mean()"
      ],
      "execution_count": 7,
      "outputs": []
    },
    {
      "cell_type": "code",
      "metadata": {
        "id": "RzgC3W-trbbK",
        "colab": {
          "base_uri": "https://localhost:8080/",
          "height": 366
        },
        "outputId": "c0b953df-94ba-4107-b157-ece368a37f57"
      },
      "source": [
        "plt.figure(figsize= (12,6))\n",
        "plt.plot(df['Close'])\n",
        "plt.plot(ma100, 'r')\n",
        "plt.plot(ma200, 'g')"
      ],
      "execution_count": 8,
      "outputs": [
        {
          "output_type": "execute_result",
          "data": {
            "text/plain": [
              "[<matplotlib.lines.Line2D at 0x7f59467276d0>]"
            ]
          },
          "metadata": {},
          "execution_count": 8
        },
        {
          "output_type": "display_data",
          "data": {
            "image/png": "[encoded data removed]",
            "text/plain": [
              "<Figure size 864x432 with 1 Axes>"
            ]
          },
          "metadata": {
            "needs_background": "light"
          }
        }
      ]
    },
    {
      "cell_type": "code",
      "metadata": {
        "id": "7NvEM-oysucb",
        "colab": {
          "base_uri": "https://localhost:8080/"
        },
        "outputId": "9f0fb9b9-d225-4ee7-8153-4aa1b38aae48"
      },
      "source": [
        "df.shape"
      ],
      "execution_count": 9,
      "outputs": [
        {
          "output_type": "execute_result",
          "data": {
            "text/plain": [
              "(2882, 5)"
            ]
          },
          "metadata": {},
          "execution_count": 9
        }
      ]
    },
    {
      "cell_type": "code",
      "metadata": {
        "id": "MgV4ss0or55r",
        "colab": {
          "base_uri": "https://localhost:8080/"
        },
        "outputId": "404ee8ac-3924-4e37-acbe-574e06f53330"
      },
      "source": [
        "# separando data de entrenamiento y de prueba\n",
        "\n",
        "df_entrenado = pd.DataFrame(df['Close'][0:int(len(df)*0.70)])\n",
        "df_prueba = pd.DataFrame(df['Close'][int(len(df)*0.70) : int(len(df))])\n",
        "\n",
        "print(df_entrenado.shape)\n",
        "print(df_prueba.shape)"
      ],
      "execution_count": 12,
      "outputs": [
        {
          "output_type": "stream",
          "name": "stdout",
          "text": [
            "(2017, 1)\n",
            "(865, 1)\n"
          ]
        }
      ]
    },
    {
      "cell_type": "code",
      "metadata": {
        "id": "plhf2x1ltpyK",
        "colab": {
          "base_uri": "https://localhost:8080/",
          "height": 206
        },
        "outputId": "4d3de715-c807-4366-b122-b81fb6bfd05e"
      },
      "source": [
        "df_prueba.head()"
      ],
      "execution_count": 13,
      "outputs": [
        {
          "output_type": "execute_result",
          "data": {
            "text/html": [
              "<div>\n",
              "<style scoped>\n",
              "    .dataframe tbody tr th:only-of-type {\n",
              "        vertical-align: middle;\n",
              "    }\n",
              "\n",
              "    .dataframe tbody tr th {\n",
              "        vertical-align: top;\n",
              "    }\n",
              "\n",
              "    .dataframe thead th {\n",
              "        text-align: right;\n",
              "    }\n",
              "</style>\n",
              "<table border=\"1\" class=\"dataframe\">\n",
              "  <thead>\n",
              "    <tr style=\"text-align: right;\">\n",
              "      <th></th>\n",
              "      <th>Close</th>\n",
              "    </tr>\n",
              "  </thead>\n",
              "  <tbody>\n",
              "    <tr>\n",
              "      <th>2017</th>\n",
              "      <td>62.172001</td>\n",
              "    </tr>\n",
              "    <tr>\n",
              "      <th>2018</th>\n",
              "      <td>61.832001</td>\n",
              "    </tr>\n",
              "    <tr>\n",
              "      <th>2019</th>\n",
              "      <td>61.779999</td>\n",
              "    </tr>\n",
              "    <tr>\n",
              "      <th>2020</th>\n",
              "      <td>63.702000</td>\n",
              "    </tr>\n",
              "    <tr>\n",
              "      <th>2021</th>\n",
              "      <td>64.494003</td>\n",
              "    </tr>\n",
              "  </tbody>\n",
              "</table>\n",
              "</div>"
            ],
            "text/plain": [
              "          Close\n",
              "2017  62.172001\n",
              "2018  61.832001\n",
              "2019  61.779999\n",
              "2020  63.702000\n",
              "2021  64.494003"
            ]
          },
          "metadata": {},
          "execution_count": 13
        }
      ]
    },
    {
      "cell_type": "code",
      "metadata": {
        "id": "ENqePdVRtvxZ"
      },
      "source": [
        "from sklearn.preprocessing import MinMaxScaler\n",
        "scaler = MinMaxScaler(feature_range=(0,1))"
      ],
      "execution_count": 14,
      "outputs": []
    },
    {
      "cell_type": "code",
      "metadata": {
        "id": "ZVdllYQzt7gh"
      },
      "source": [
        "df_entrenado_array = scaler.fit_transform(df_entrenado)"
      ],
      "execution_count": 15,
      "outputs": []
    },
    {
      "cell_type": "code",
      "metadata": {
        "id": "HPQUC6yIucWI",
        "colab": {
          "base_uri": "https://localhost:8080/"
        },
        "outputId": "8fddcc3f-5012-4898-983d-e9d38c255b24"
      },
      "source": [
        "df_entrenado_array.shape"
      ],
      "execution_count": 16,
      "outputs": [
        {
          "output_type": "execute_result",
          "data": {
            "text/plain": [
              "(2017, 1)"
            ]
          },
          "metadata": {},
          "execution_count": 16
        }
      ]
    },
    {
      "cell_type": "code",
      "metadata": {
        "id": "hOed5QThuO1q"
      },
      "source": [
        "x_entrenado = []\n",
        "y_entrenado = []\n",
        "\n",
        "for i in range(100, df_entrenado_array.shape[0]):\n",
        "    x_entrenado.append(df_entrenado_array[i-100: i])\n",
        "    y_entrenado.append(df_entrenado_array[i, 0])\n",
        "\n",
        "x_entrenado, y_entrenado = np.array(x_entrenado), np.array(y_entrenado)"
      ],
      "execution_count": 17,
      "outputs": []
    },
    {
      "cell_type": "code",
      "metadata": {
        "id": "XOq7LZfYvEIz"
      },
      "source": [
        "# ML Model usando keras\n",
        "from keras.layers import Dense, Dropout, LSTM\n",
        "from keras.models import Sequential"
      ],
      "execution_count": 18,
      "outputs": []
    },
    {
      "cell_type": "code",
      "metadata": {
        "id": "0T1et9VNvR7a"
      },
      "source": [
        "model = Sequential()\n",
        "model.add(LSTM(units = 50, activation= 'relu', return_sequences= True,\n",
        "               input_shape= (x_entrenado.shape[1], 1)))\n",
        "model.add(Dropout(0.2))\n",
        "\n",
        "model.add(LSTM(units = 60, activation= 'relu', return_sequences= True))\n",
        "model.add(Dropout(0.3))\n",
        "\n",
        "model.add(LSTM(units = 80, activation= 'relu', return_sequences= True))\n",
        "model.add(Dropout(0.4))\n",
        "\n",
        "model.add(LSTM(units = 120, activation= 'relu'))\n",
        "model.add(Dropout(0.5))\n",
        "\n",
        "model.add(Dense(units= 1))"
      ],
      "execution_count": 19,
      "outputs": []
    },
    {
      "cell_type": "code",
      "metadata": {
        "id": "12kFTFNGweeD",
        "colab": {
          "base_uri": "https://localhost:8080/"
        },
        "outputId": "dc4a8376-bb83-477d-93f8-c7bf8984e2d4"
      },
      "source": [
        "model.summary()"
      ],
      "execution_count": 20,
      "outputs": [
        {
          "output_type": "stream",
          "name": "stdout",
          "text": [
            "Model: \"sequential\"\n",
            "_________________________________________________________________\n",
            " Layer (type)                Output Shape              Param #   \n",
            "=================================================================\n",
            " lstm (LSTM)                 (None, 100, 50)           10400     \n",
            "                                                                 \n",
            " dropout (Dropout)           (None, 100, 50)           0         \n",
            "                                                                 \n",
            " lstm_1 (LSTM)               (None, 100, 60)           26640     \n",
            "                                                                 \n",
            " dropout_1 (Dropout)         (None, 100, 60)           0         \n",
            "                                                                 \n",
            " lstm_2 (LSTM)               (None, 100, 80)           45120     \n",
            "                                                                 \n",
            " dropout_2 (Dropout)         (None, 100, 80)           0         \n",
            "                                                                 \n",
            " lstm_3 (LSTM)               (None, 120)               96480     \n",
            "                                                                 \n",
            " dropout_3 (Dropout)         (None, 120)               0         \n",
            "                                                                 \n",
            " dense (Dense)               (None, 1)                 121       \n",
            "                                                                 \n",
            "=================================================================\n",
            "Total params: 178,761\n",
            "Trainable params: 178,761\n",
            "Non-trainable params: 0\n",
            "_________________________________________________________________\n"
          ]
        }
      ]
    },
    {
      "cell_type": "code",
      "metadata": {
        "id": "oWwX17KHwm1h",
        "colab": {
          "base_uri": "https://localhost:8080/"
        },
        "outputId": "2b146615-a157-433f-ac26-b22db65d8b02"
      },
      "source": [
        "model.compile(optimizer='adam', loss= 'mean_squared_error')\n",
        "model.fit(x_entrenado, y_entrenado, epochs=10)"
      ],
      "execution_count": 21,
      "outputs": [
        {
          "output_type": "stream",
          "name": "stdout",
          "text": [
            "Epoch 1/10\n",
            "60/60 [==============================] - 22s 278ms/step - loss: 0.0485\n",
            "Epoch 2/10\n",
            "60/60 [==============================] - 17s 276ms/step - loss: 0.0096\n",
            "Epoch 3/10\n",
            "60/60 [==============================] - 17s 275ms/step - loss: 0.0115\n",
            "Epoch 4/10\n",
            "60/60 [==============================] - 17s 279ms/step - loss: 0.0090\n",
            "Epoch 5/10\n",
            "60/60 [==============================] - 17s 275ms/step - loss: 0.0079\n",
            "Epoch 6/10\n",
            "60/60 [==============================] - 17s 281ms/step - loss: 0.0073\n",
            "Epoch 7/10\n",
            "60/60 [==============================] - 17s 276ms/step - loss: 0.0070\n",
            "Epoch 8/10\n",
            "60/60 [==============================] - 17s 277ms/step - loss: 0.0081\n",
            "Epoch 9/10\n",
            "60/60 [==============================] - 17s 277ms/step - loss: 0.0067\n",
            "Epoch 10/10\n",
            "60/60 [==============================] - 17s 277ms/step - loss: 0.0064\n"
          ]
        },
        {
          "output_type": "execute_result",
          "data": {
            "text/plain": [
              "<keras.callbacks.History at 0x7f5941837390>"
            ]
          },
          "metadata": {},
          "execution_count": 21
        }
      ]
    },
    {
      "cell_type": "code",
      "metadata": {
        "id": "IKljYgblw6S5"
      },
      "source": [
        "model.save('modelo_keras.h5')"
      ],
      "execution_count": 22,
      "outputs": []
    },
    {
      "cell_type": "code",
      "metadata": {
        "id": "mcRR3Smnx3V5"
      },
      "source": [
        "pasados_100d = df_entrenado.tail(100)"
      ],
      "execution_count": 23,
      "outputs": []
    },
    {
      "cell_type": "code",
      "metadata": {
        "id": "X7Z4FBFZx3ro"
      },
      "source": [
        "df_final = pasados_100d.append(df_prueba, ignore_index=True)"
      ],
      "execution_count": 24,
      "outputs": []
    },
    {
      "cell_type": "code",
      "metadata": {
        "id": "rw8ZecrLyHn5",
        "colab": {
          "base_uri": "https://localhost:8080/",
          "height": 423
        },
        "outputId": "bd7a7cce-e656-4fc8-992e-d5e24da3c013"
      },
      "source": [
        "df_final"
      ],
      "execution_count": 25,
      "outputs": [
        {
          "output_type": "execute_result",
          "data": {
            "text/html": [
              "<div>\n",
              "<style scoped>\n",
              "    .dataframe tbody tr th:only-of-type {\n",
              "        vertical-align: middle;\n",
              "    }\n",
              "\n",
              "    .dataframe tbody tr th {\n",
              "        vertical-align: top;\n",
              "    }\n",
              "\n",
              "    .dataframe thead th {\n",
              "        text-align: right;\n",
              "    }\n",
              "</style>\n",
              "<table border=\"1\" class=\"dataframe\">\n",
              "  <thead>\n",
              "    <tr style=\"text-align: right;\">\n",
              "      <th></th>\n",
              "      <th>Close</th>\n",
              "    </tr>\n",
              "  </thead>\n",
              "  <tbody>\n",
              "    <tr>\n",
              "      <th>0</th>\n",
              "      <td>63.046001</td>\n",
              "    </tr>\n",
              "    <tr>\n",
              "      <th>1</th>\n",
              "      <td>62.084000</td>\n",
              "    </tr>\n",
              "    <tr>\n",
              "      <th>2</th>\n",
              "      <td>63.146000</td>\n",
              "    </tr>\n",
              "    <tr>\n",
              "      <th>3</th>\n",
              "      <td>64.732002</td>\n",
              "    </tr>\n",
              "    <tr>\n",
              "      <th>4</th>\n",
              "      <td>64.461998</td>\n",
              "    </tr>\n",
              "    <tr>\n",
              "      <th>...</th>\n",
              "      <td>...</td>\n",
              "    </tr>\n",
              "    <tr>\n",
              "      <th>960</th>\n",
              "      <td>1095.000000</td>\n",
              "    </tr>\n",
              "    <tr>\n",
              "      <th>961</th>\n",
              "      <td>1084.599976</td>\n",
              "    </tr>\n",
              "    <tr>\n",
              "      <th>962</th>\n",
              "      <td>1014.969971</td>\n",
              "    </tr>\n",
              "    <tr>\n",
              "      <th>963</th>\n",
              "      <td>1009.010010</td>\n",
              "    </tr>\n",
              "    <tr>\n",
              "      <th>964</th>\n",
              "      <td>1046.025024</td>\n",
              "    </tr>\n",
              "  </tbody>\n",
              "</table>\n",
              "<p>965 rows × 1 columns</p>\n",
              "</div>"
            ],
            "text/plain": [
              "           Close\n",
              "0      63.046001\n",
              "1      62.084000\n",
              "2      63.146000\n",
              "3      64.732002\n",
              "4      64.461998\n",
              "..           ...\n",
              "960  1095.000000\n",
              "961  1084.599976\n",
              "962  1014.969971\n",
              "963  1009.010010\n",
              "964  1046.025024\n",
              "\n",
              "[965 rows x 1 columns]"
            ]
          },
          "metadata": {},
          "execution_count": 25
        }
      ]
    },
    {
      "cell_type": "code",
      "metadata": {
        "id": "x6HRMNjsyPA2"
      },
      "source": [
        "input_df = scaler.fit_transform(df_final)"
      ],
      "execution_count": 26,
      "outputs": []
    },
    {
      "cell_type": "code",
      "metadata": {
        "id": "FOy2p81HyWeo",
        "colab": {
          "base_uri": "https://localhost:8080/"
        },
        "outputId": "36da6425-5baf-4ef2-acd9-2f2d84323ba5"
      },
      "source": [
        "input_df.shape"
      ],
      "execution_count": 27,
      "outputs": [
        {
          "output_type": "execute_result",
          "data": {
            "text/plain": [
              "(965, 1)"
            ]
          },
          "metadata": {},
          "execution_count": 27
        }
      ]
    },
    {
      "cell_type": "code",
      "metadata": {
        "id": "NESjtUsXyZqS"
      },
      "source": [
        "x_prueba = []\n",
        "y_prueba = []\n",
        "\n",
        "for i in range(100,input_df.shape[0]):\n",
        "    x_prueba.append(input_df[i-100: i])\n",
        "    y_prueba.append(input_df[i,0])"
      ],
      "execution_count": 28,
      "outputs": []
    },
    {
      "cell_type": "code",
      "metadata": {
        "id": "SFZWdhrbyxjX"
      },
      "source": [
        "x_prueba, y_prueba = np.array(x_prueba), np.array(y_prueba)"
      ],
      "execution_count": 29,
      "outputs": []
    },
    {
      "cell_type": "code",
      "metadata": {
        "id": "VdV2fkjry6Gf"
      },
      "source": [
        "y_predicted = model.predict(x_prueba)"
      ],
      "execution_count": 30,
      "outputs": []
    },
    {
      "cell_type": "code",
      "metadata": {
        "id": "lJVtv8s7zKLQ",
        "colab": {
          "base_uri": "https://localhost:8080/"
        },
        "outputId": "f7d891ed-53b5-4a75-a23c-dcd282ddc076"
      },
      "source": [
        "y_predicted.shape"
      ],
      "execution_count": 31,
      "outputs": [
        {
          "output_type": "execute_result",
          "data": {
            "text/plain": [
              "(865, 1)"
            ]
          },
          "metadata": {},
          "execution_count": 31
        }
      ]
    },
    {
      "cell_type": "code",
      "metadata": {
        "id": "wkgtJo2PzTyH",
        "colab": {
          "base_uri": "https://localhost:8080/"
        },
        "outputId": "d354befa-e18d-45b1-fb6d-bc1cd40b1750"
      },
      "source": [
        "scaler.scale_"
      ],
      "execution_count": 32,
      "outputs": [
        {
          "output_type": "execute_result",
          "data": {
            "text/plain": [
              "array([0.00083744])"
            ]
          },
          "metadata": {},
          "execution_count": 32
        }
      ]
    },
    {
      "cell_type": "code",
      "metadata": {
        "id": "MgoSP6KizVKv"
      },
      "source": [
        "scale_factor = 1/0.00083744\n",
        "y_predicted = y_predicted * scale_factor\n",
        "y_prueba = y_prueba * scale_factor"
      ],
      "execution_count": 33,
      "outputs": []
    },
    {
      "cell_type": "code",
      "metadata": {
        "id": "9FUGyMZKzmzH",
        "colab": {
          "base_uri": "https://localhost:8080/",
          "height": 358
        },
        "outputId": "034110a2-749f-4e00-fb93-c32a98a347a3"
      },
      "source": [
        "plt.figure(figsize=(12,6))\n",
        "plt.plot(y_prueba, 'b', label='Precio original')\n",
        "plt.plot(y_predicted, 'g', label='Precio pronosticado')\n",
        "plt.xlabel('Año')\n",
        "plt.ylabel('Precio')\n",
        "plt.legend()\n",
        "plt.show()"
      ],
      "execution_count": 34,
      "outputs": [
        {
          "output_type": "display_data",
          "data": {
            "image/png": "[encoded data removed]",
            "text/plain": [
              "<Figure size 864x432 with 1 Axes>"
            ]
          },
          "metadata": {
            "needs_background": "light"
          }
        }
      ]
    }
  ]
}